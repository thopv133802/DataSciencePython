{
 "cells": [
  {
   "cell_type": "code",
   "execution_count": 2,
   "outputs": [
    {
     "data": {
      "text/plain": "    A   B   C\n0  A0  B0  C0\n1  A1  B1  C1\n2  A2  B2  C2",
      "text/html": "<div>\n<style scoped>\n    .dataframe tbody tr th:only-of-type {\n        vertical-align: middle;\n    }\n\n    .dataframe tbody tr th {\n        vertical-align: top;\n    }\n\n    .dataframe thead th {\n        text-align: right;\n    }\n</style>\n<table border=\"1\" class=\"dataframe\">\n  <thead>\n    <tr style=\"text-align: right;\">\n      <th></th>\n      <th>A</th>\n      <th>B</th>\n      <th>C</th>\n    </tr>\n  </thead>\n  <tbody>\n    <tr>\n      <th>0</th>\n      <td>A0</td>\n      <td>B0</td>\n      <td>C0</td>\n    </tr>\n    <tr>\n      <th>1</th>\n      <td>A1</td>\n      <td>B1</td>\n      <td>C1</td>\n    </tr>\n    <tr>\n      <th>2</th>\n      <td>A2</td>\n      <td>B2</td>\n      <td>C2</td>\n    </tr>\n  </tbody>\n</table>\n</div>"
     },
     "metadata": {},
     "output_type": "execute_result",
     "execution_count": 2
    }
   ],
   "source": [
    "import pandas\n",
    "import numpy \n",
    "\n",
    "def makeDataFrame(cols, indices):\n",
    "    data = {\n",
    "        col: [str(col) + str(index) for index in indices]\n",
    "        for col in cols\n",
    "    }\n",
    "    return pandas.DataFrame(data, indices)\n",
    "\n",
    "makeDataFrame(\"ABC\", range(3))"
   ],
   "metadata": {
    "collapsed": false,
    "pycharm": {
     "name": "#%%\n",
     "is_executing": false
    }
   }
  },
  {
   "cell_type": "code",
   "execution_count": 3,
   "outputs": [
    {
     "data": {
      "text/plain": "  employee        group  hire_date\n0      Bob   Accounting       2008\n1     Jake  Engineering       2012\n2     Lisa  Engineering       2004\n3      Sue           HR       2014",
      "text/html": "<div>\n<style scoped>\n    .dataframe tbody tr th:only-of-type {\n        vertical-align: middle;\n    }\n\n    .dataframe tbody tr th {\n        vertical-align: top;\n    }\n\n    .dataframe thead th {\n        text-align: right;\n    }\n</style>\n<table border=\"1\" class=\"dataframe\">\n  <thead>\n    <tr style=\"text-align: right;\">\n      <th></th>\n      <th>employee</th>\n      <th>group</th>\n      <th>hire_date</th>\n    </tr>\n  </thead>\n  <tbody>\n    <tr>\n      <th>0</th>\n      <td>Bob</td>\n      <td>Accounting</td>\n      <td>2008</td>\n    </tr>\n    <tr>\n      <th>1</th>\n      <td>Jake</td>\n      <td>Engineering</td>\n      <td>2012</td>\n    </tr>\n    <tr>\n      <th>2</th>\n      <td>Lisa</td>\n      <td>Engineering</td>\n      <td>2004</td>\n    </tr>\n    <tr>\n      <th>3</th>\n      <td>Sue</td>\n      <td>HR</td>\n      <td>2014</td>\n    </tr>\n  </tbody>\n</table>\n</div>"
     },
     "metadata": {},
     "output_type": "execute_result",
     "execution_count": 3
    }
   ],
   "source": [
    "\"\"\"High-performance, in-memory join và merge operations\"\"\"\n",
    "\n",
    "\"\"\"Các loại joins\"\"\"\n",
    "\n",
    "\"\"\"One to one joins\"\"\"\n",
    "\"\"\"Giống với column-wise concatnation\"\"\"\n",
    "dataFrame1 = pandas.DataFrame({\n",
    "    \"employee\": [\"Bob\", \"Jake\", \"Lisa\", \"Sue\"],\n",
    "    \"group\": [\"Accounting\", \"Engineering\", \"Engineering\", \"HR\"]\n",
    "})\n",
    "dataFrame2 = pandas.DataFrame({\n",
    "    \"employee\": [\"Lisa\", \"Bob\", \"Jake\", \"Sue\"],\n",
    "    \"hire_date\": [2004, 2008, 2012, 2014]\n",
    "})\n",
    "\n",
    "dataFrame3 = pandas.merge(dataFrame1, dataFrame2)\n",
    "dataFrame3"
   ],
   "metadata": {
    "collapsed": false,
    "pycharm": {
     "name": "#%%\n",
     "is_executing": false
    }
   }
  },
  {
   "cell_type": "code",
   "execution_count": 4,
   "outputs": [
    {
     "data": {
      "text/plain": "  employee        group  hire_date supervisor\n0      Bob   Accounting       2008      Carly\n1     Jake  Engineering       2012      Guido\n2     Lisa  Engineering       2004      Guido\n3      Sue           HR       2014      Steve",
      "text/html": "<div>\n<style scoped>\n    .dataframe tbody tr th:only-of-type {\n        vertical-align: middle;\n    }\n\n    .dataframe tbody tr th {\n        vertical-align: top;\n    }\n\n    .dataframe thead th {\n        text-align: right;\n    }\n</style>\n<table border=\"1\" class=\"dataframe\">\n  <thead>\n    <tr style=\"text-align: right;\">\n      <th></th>\n      <th>employee</th>\n      <th>group</th>\n      <th>hire_date</th>\n      <th>supervisor</th>\n    </tr>\n  </thead>\n  <tbody>\n    <tr>\n      <th>0</th>\n      <td>Bob</td>\n      <td>Accounting</td>\n      <td>2008</td>\n      <td>Carly</td>\n    </tr>\n    <tr>\n      <th>1</th>\n      <td>Jake</td>\n      <td>Engineering</td>\n      <td>2012</td>\n      <td>Guido</td>\n    </tr>\n    <tr>\n      <th>2</th>\n      <td>Lisa</td>\n      <td>Engineering</td>\n      <td>2004</td>\n      <td>Guido</td>\n    </tr>\n    <tr>\n      <th>3</th>\n      <td>Sue</td>\n      <td>HR</td>\n      <td>2014</td>\n      <td>Steve</td>\n    </tr>\n  </tbody>\n</table>\n</div>"
     },
     "metadata": {},
     "output_type": "execute_result",
     "execution_count": 4
    }
   ],
   "source": [
    "\"\"\"Many to one joins\"\"\"\n",
    "\n",
    "dataFrame4 = pandas.DataFrame({\n",
    "    \"group\": [\"Accounting\", \"Engineering\", \"HR\"],\n",
    "    \"supervisor\": [\"Carly\", \"Guido\", \"Steve\"]\n",
    "})\n",
    "pandas.merge(dataFrame3, dataFrame4)"
   ],
   "metadata": {
    "collapsed": false,
    "pycharm": {
     "name": "#%%\n",
     "is_executing": false
    }
   }
  },
  {
   "cell_type": "code",
   "execution_count": 5,
   "outputs": [
    {
     "data": {
      "text/plain": "  employee        group  hire_date\n0      Bob   Accounting       2008\n1     Jake  Engineering       2012\n2     Lisa  Engineering       2004\n3      Sue           HR       2014",
      "text/html": "<div>\n<style scoped>\n    .dataframe tbody tr th:only-of-type {\n        vertical-align: middle;\n    }\n\n    .dataframe tbody tr th {\n        vertical-align: top;\n    }\n\n    .dataframe thead th {\n        text-align: right;\n    }\n</style>\n<table border=\"1\" class=\"dataframe\">\n  <thead>\n    <tr style=\"text-align: right;\">\n      <th></th>\n      <th>employee</th>\n      <th>group</th>\n      <th>hire_date</th>\n    </tr>\n  </thead>\n  <tbody>\n    <tr>\n      <th>0</th>\n      <td>Bob</td>\n      <td>Accounting</td>\n      <td>2008</td>\n    </tr>\n    <tr>\n      <th>1</th>\n      <td>Jake</td>\n      <td>Engineering</td>\n      <td>2012</td>\n    </tr>\n    <tr>\n      <th>2</th>\n      <td>Lisa</td>\n      <td>Engineering</td>\n      <td>2004</td>\n    </tr>\n    <tr>\n      <th>3</th>\n      <td>Sue</td>\n      <td>HR</td>\n      <td>2014</td>\n    </tr>\n  </tbody>\n</table>\n</div>"
     },
     "metadata": {},
     "output_type": "execute_result",
     "execution_count": 5
    }
   ],
   "source": [
    "\"\"\"Many to many joins\"\"\"\n",
    "dataFrame5 = pandas.DataFrame({\n",
    "    \"group\": [\"Accounting\", \"Accounting\", \"Engineering\", \"Engineering\", \"HR\", \"HR\"],\n",
    "    \"skills\": [\"math\", \"spreadsheets\", \"coding\", \"linux\", \"spreadsheets\", \"organization\"]\n",
    "})\n",
    "\n",
    "pandas.merge(dataFrame1, dataFrame5)\n",
    "\n",
    "\"\"\"Điều khiển cách join operations hoạt động\"\"\"\n",
    "\"\"\"Xác định merge key\"\"\"\n",
    "\n",
    "\"\"\"on keyword \"\"\"\n",
    "pandas.merge(dataFrame1, dataFrame2, on = \"employee\")"
   ],
   "metadata": {
    "collapsed": false,
    "pycharm": {
     "name": "#%%\n",
     "is_executing": false
    }
   }
  },
  {
   "cell_type": "code",
   "execution_count": 6,
   "outputs": [
    {
     "data": {
      "text/plain": "  employee        group  name  salary\n0      Bob   Accounting   Bob   70000\n1     Jake  Engineering  Jake   80000\n2     Lisa  Engineering  Lisa  120000\n3      Sue           HR   Sue   90000",
      "text/html": "<div>\n<style scoped>\n    .dataframe tbody tr th:only-of-type {\n        vertical-align: middle;\n    }\n\n    .dataframe tbody tr th {\n        vertical-align: top;\n    }\n\n    .dataframe thead th {\n        text-align: right;\n    }\n</style>\n<table border=\"1\" class=\"dataframe\">\n  <thead>\n    <tr style=\"text-align: right;\">\n      <th></th>\n      <th>employee</th>\n      <th>group</th>\n      <th>name</th>\n      <th>salary</th>\n    </tr>\n  </thead>\n  <tbody>\n    <tr>\n      <th>0</th>\n      <td>Bob</td>\n      <td>Accounting</td>\n      <td>Bob</td>\n      <td>70000</td>\n    </tr>\n    <tr>\n      <th>1</th>\n      <td>Jake</td>\n      <td>Engineering</td>\n      <td>Jake</td>\n      <td>80000</td>\n    </tr>\n    <tr>\n      <th>2</th>\n      <td>Lisa</td>\n      <td>Engineering</td>\n      <td>Lisa</td>\n      <td>120000</td>\n    </tr>\n    <tr>\n      <th>3</th>\n      <td>Sue</td>\n      <td>HR</td>\n      <td>Sue</td>\n      <td>90000</td>\n    </tr>\n  </tbody>\n</table>\n</div>"
     },
     "metadata": {},
     "output_type": "execute_result",
     "execution_count": 6
    }
   ],
   "source": [
    "\"\"\"left on, right on\"\"\"\n",
    "\"\"\"joined dataframe có thể chứa luôn cả left_on và right_on property\"\"\"\n",
    "\"\"\"ĐIều này khá dư thừa vì 2 thằng đó giống nhau mà -> drop là đẹp\"\"\"\n",
    "dataFrame3 = pandas.DataFrame({\n",
    "    \"name\": [\"Bob\", \"Jake\", \"Lisa\", \"Sue\"],\n",
    "    \"salary\": [70000, 80000, 120000, 90000]\n",
    "})\n",
    "pandas.merge(dataFrame1, dataFrame3, left_on = \"employee\", right_on = \"name\").drop(\"name\", axis = 1)"
   ],
   "metadata": {
    "collapsed": false,
    "pycharm": {
     "name": "#%%\n",
     "is_executing": false
    }
   }
  },
  {
   "cell_type": "code",
   "execution_count": 7,
   "outputs": [
    {
     "data": {
      "text/plain": "                group  hire_date\nemployee                        \nBob        Accounting       2008\nJake      Engineering       2012\nLisa      Engineering       2004\nSue                HR       2014",
      "text/html": "<div>\n<style scoped>\n    .dataframe tbody tr th:only-of-type {\n        vertical-align: middle;\n    }\n\n    .dataframe tbody tr th {\n        vertical-align: top;\n    }\n\n    .dataframe thead th {\n        text-align: right;\n    }\n</style>\n<table border=\"1\" class=\"dataframe\">\n  <thead>\n    <tr style=\"text-align: right;\">\n      <th></th>\n      <th>group</th>\n      <th>hire_date</th>\n    </tr>\n    <tr>\n      <th>employee</th>\n      <th></th>\n      <th></th>\n    </tr>\n  </thead>\n  <tbody>\n    <tr>\n      <th>Bob</th>\n      <td>Accounting</td>\n      <td>2008</td>\n    </tr>\n    <tr>\n      <th>Jake</th>\n      <td>Engineering</td>\n      <td>2012</td>\n    </tr>\n    <tr>\n      <th>Lisa</th>\n      <td>Engineering</td>\n      <td>2004</td>\n    </tr>\n    <tr>\n      <th>Sue</th>\n      <td>HR</td>\n      <td>2014</td>\n    </tr>\n  </tbody>\n</table>\n</div>"
     },
     "metadata": {},
     "output_type": "execute_result",
     "execution_count": 7
    }
   ],
   "source": [
    "\"\"\"Merge by index: left_index, right_index\"\"\"\n",
    "dataFrame1a = dataFrame1.set_index(\"employee\")\n",
    "dataFrame2a = dataFrame2.set_index(\"employee\")\n",
    "\n",
    "pandas.merge(dataFrame1a, dataFrame2a, left_index = True, right_index = True)\n"
   ],
   "metadata": {
    "collapsed": false,
    "pycharm": {
     "name": "#%%\n",
     "is_executing": false
    }
   }
  },
  {
   "cell_type": "code",
   "execution_count": 8,
   "outputs": [
    {
     "data": {
      "text/plain": "                group  hire_date\nemployee                        \nBob        Accounting       2008\nJake      Engineering       2012\nLisa      Engineering       2004\nSue                HR       2014",
      "text/html": "<div>\n<style scoped>\n    .dataframe tbody tr th:only-of-type {\n        vertical-align: middle;\n    }\n\n    .dataframe tbody tr th {\n        vertical-align: top;\n    }\n\n    .dataframe thead th {\n        text-align: right;\n    }\n</style>\n<table border=\"1\" class=\"dataframe\">\n  <thead>\n    <tr style=\"text-align: right;\">\n      <th></th>\n      <th>group</th>\n      <th>hire_date</th>\n    </tr>\n    <tr>\n      <th>employee</th>\n      <th></th>\n      <th></th>\n    </tr>\n  </thead>\n  <tbody>\n    <tr>\n      <th>Bob</th>\n      <td>Accounting</td>\n      <td>2008</td>\n    </tr>\n    <tr>\n      <th>Jake</th>\n      <td>Engineering</td>\n      <td>2012</td>\n    </tr>\n    <tr>\n      <th>Lisa</th>\n      <td>Engineering</td>\n      <td>2004</td>\n    </tr>\n    <tr>\n      <th>Sue</th>\n      <td>HR</td>\n      <td>2014</td>\n    </tr>\n  </tbody>\n</table>\n</div>"
     },
     "metadata": {},
     "output_type": "execute_result",
     "execution_count": 8
    }
   ],
   "source": [
    "\"\"\"merge với left, right index có thể ngắn gọn bằng phương thức join()\"\"\"\n",
    "dataFrame1a.join(dataFrame2a)"
   ],
   "metadata": {
    "collapsed": false,
    "pycharm": {
     "name": "#%%\n",
     "is_executing": false
    }
   }
  },
  {
   "cell_type": "code",
   "execution_count": 9,
   "outputs": [
    {
     "data": {
      "text/plain": "         group  name  salary\n0   Accounting   Bob   70000\n1  Engineering  Jake   80000\n2  Engineering  Lisa  120000\n3           HR   Sue   90000",
      "text/html": "<div>\n<style scoped>\n    .dataframe tbody tr th:only-of-type {\n        vertical-align: middle;\n    }\n\n    .dataframe tbody tr th {\n        vertical-align: top;\n    }\n\n    .dataframe thead th {\n        text-align: right;\n    }\n</style>\n<table border=\"1\" class=\"dataframe\">\n  <thead>\n    <tr style=\"text-align: right;\">\n      <th></th>\n      <th>group</th>\n      <th>name</th>\n      <th>salary</th>\n    </tr>\n  </thead>\n  <tbody>\n    <tr>\n      <th>0</th>\n      <td>Accounting</td>\n      <td>Bob</td>\n      <td>70000</td>\n    </tr>\n    <tr>\n      <th>1</th>\n      <td>Engineering</td>\n      <td>Jake</td>\n      <td>80000</td>\n    </tr>\n    <tr>\n      <th>2</th>\n      <td>Engineering</td>\n      <td>Lisa</td>\n      <td>120000</td>\n    </tr>\n    <tr>\n      <th>3</th>\n      <td>HR</td>\n      <td>Sue</td>\n      <td>90000</td>\n    </tr>\n  </tbody>\n</table>\n</div>"
     },
     "metadata": {},
     "output_type": "execute_result",
     "execution_count": 9
    }
   ],
   "source": [
    "\"\"\"Kết hợp left_index/right_index với left_on/right_on\"\"\"\n",
    "pandas.merge(dataFrame1a, dataFrame3, left_index = True, right_on = \"name\")\n",
    "\n"
   ],
   "metadata": {
    "collapsed": false,
    "pycharm": {
     "name": "#%%\n",
     "is_executing": false
    }
   }
  },
  {
   "cell_type": "code",
   "execution_count": 10,
   "outputs": [
    {
     "data": {
      "text/plain": "'Left - tất cả các entries của left đều có mặt trong kết quả'"
     },
     "metadata": {},
     "output_type": "execute_result",
     "execution_count": 10
    }
   ],
   "source": [
    "\"\"\"Xác định How to join ?\"\"\"\n",
    "\"\"\"Mặc định inner\"\"\"\n",
    "\"\"\"Ngoài ra còn có outer, left, right\"\"\"\n",
    "\n",
    "\"\"\"Outer với tất cả các entries của cả hai đều có mặt trong kết quả\"\"\"\n",
    "\"\"\"Left - tất cả các entries của left đều có mặt trong kết quả\"\"\""
   ],
   "metadata": {
    "collapsed": false,
    "pycharm": {
     "name": "#%%\n",
     "is_executing": false
    }
   }
  },
  {
   "cell_type": "code",
   "execution_count": null,
   "outputs": [],
   "source": [
    "\"\"\"Xử lý overlapping column names: suffixes keyword\"\"\"\n",
    "dataFrame8 = pandas.DataFrame({\n",
    "    'name': ['Bob', 'Jake', 'Lisa', 'Sue'],\n",
    "    'rank': [1, 2, 3, 4]\n",
    "})\n",
    "dataFrame9 = pandas.DataFrame({\n",
    "    'name': ['Bob', 'Jake', 'Lisa', 'Sue'],\n",
    "    'rank': [3, 1, 4, 2]\n",
    "})\n",
    "pandas.merge(dataFrame8, dataFrame9, on = \"name\", suffixes = {\"_L\", \"_R\"})\n",
    "\n",
    "\n"
   ],
   "metadata": {
    "collapsed": false,
    "pycharm": {
     "name": "#%%\n"
    }
   }
  }
 ],
 "metadata": {
  "language_info": {
   "codemirror_mode": {
    "name": "ipython",
    "version": 2
   },
   "file_extension": ".py",
   "mimetype": "text/x-python",
   "name": "python",
   "nbconvert_exporter": "python",
   "pygments_lexer": "ipython2",
   "version": "2.7.6"
  },
  "kernelspec": {
   "name": "python3",
   "language": "python",
   "display_name": "Python 3"
  },
  "pycharm": {
   "stem_cell": {
    "cell_type": "raw",
    "source": [],
    "metadata": {
     "collapsed": false
    }
   }
  }
 },
 "nbformat": 4,
 "nbformat_minor": 0
}