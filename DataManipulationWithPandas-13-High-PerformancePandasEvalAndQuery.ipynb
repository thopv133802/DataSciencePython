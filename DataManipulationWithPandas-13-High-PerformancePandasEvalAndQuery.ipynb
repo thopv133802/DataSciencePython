{
 "cells": [
  {
   "cell_type": "code",
   "execution_count": 3,
   "outputs": [
    {
     "name": "stdout",
     "text": [
      "1.95 ms ± 80.5 µs per loop (mean ± std. dev. of 7 runs, 100 loops each)\n"
     ],
     "output_type": "stream"
    }
   ],
   "source": [
    "import pandas\n",
    "import numpy \n",
    "\n",
    "\n",
    "\"\"\"Cho phép trực tiếp truy cập vào C-speed operations mà không mất phí cấp phát cho các mảng trung gian\"\"\"\n",
    "\n",
    "randomer = numpy.random.RandomState(42)\n",
    "\n",
    "x = randomer.rand(1000_000)\n",
    "y = randomer.rand(1000_000)\n",
    "\n",
    "%timeit x + y"
   ],
   "metadata": {
    "collapsed": false,
    "pycharm": {
     "name": "#%%\n",
     "is_executing": false
    }
   }
  },
  {
   "cell_type": "code",
   "execution_count": 4,
   "outputs": [
    {
     "name": "stdout",
     "text": [
      "225 ms ± 8.49 ms per loop (mean ± std. dev. of 7 runs, 1 loop each)\n"
     ],
     "output_type": "stream"
    }
   ],
   "source": [
    "\"\"\"Phía trên nhanh hơn hẳn so với Python loop\"\"\"\n",
    "%timeit numpy.fromiter((xi + yi for xi, yi in zip(x, y)), dtype = x.dtype, count = len(x))"
   ],
   "metadata": {
    "collapsed": false,
    "pycharm": {
     "name": "#%%\n",
     "is_executing": false
    }
   }
  },
  {
   "cell_type": "code",
   "execution_count": 5,
   "outputs": [],
   "source": [
    "\"\"\"Tuy nhiên khi bạn tính toán các compound expression \"\"\"\n",
    "mask = (x > 0.5) & (y < 0.5)\n",
    "\n",
    "\n"
   ],
   "metadata": {
    "collapsed": false,
    "pycharm": {
     "name": "#%%\n",
     "is_executing": false
    }
   }
  },
  {
   "cell_type": "code",
   "execution_count": 6,
   "outputs": [
    {
     "data": {
      "text/plain": "True"
     },
     "metadata": {},
     "output_type": "execute_result",
     "execution_count": 6
    }
   ],
   "source": [
    "\"\"\"Sở dĩ vậy vì NumPy đánh giá từng subexpression một, vì thế dòng code trên tương đương với\"\"\"\n",
    "tmp1 = (x > 0.5)\n",
    "tmp2 = (y < 0.5)\n",
    "mask = tmp1 & tmp2\n",
    "\n",
    "\"\"\"Và mọi intermediate step đều phải cấp phát bộ nhớ và nếu x, y lớn thì tính toán và bộ nhớ càng nặng\"\"\"\n",
    "\"\"\"numpy cung cấp khả năng tính toán các loại compound expression element by element mà không cần cấp phát các mảng trung gian\"\"\"\n",
    "import numexpr\n",
    "maskNumExpr = numexpr.evaluate(\"(x > 0.5) & (y < 0.5)\")\n",
    "\n",
    "#Check xem kết quả trùng không nào\n",
    "numpy.allclose(mask, maskNumExpr)"
   ],
   "metadata": {
    "collapsed": false,
    "pycharm": {
     "name": "#%%\n",
     "is_executing": false
    }
   }
  },
  {
   "cell_type": "code",
   "execution_count": 7,
   "outputs": [
    {
     "name": "stdout",
     "text": [
      "106 ms ± 34.7 ms per loop (mean ± std. dev. of 7 runs, 10 loops each)\n"
     ],
     "output_type": "stream"
    }
   ],
   "source": [
    "\"\"\"Pandas eval() và query() build trên top của Numexpr\"\"\"\n",
    "\n",
    "\"\"\"pandas.eval() cho các efficient operations\"\"\"\n",
    "nRows, nColumns = 100000, 100\n",
    "randomer = numpy.random.RandomState(42)\n",
    "df1, df2, df3, df4 = (\n",
    "    pandas.DataFrame(randomer.rand(nRows, nColumns))\n",
    "    for i in range(4)\n",
    ")\n",
    "%timeit df1 + df2 + df3 + df4 "
   ],
   "metadata": {
    "collapsed": false,
    "pycharm": {
     "name": "#%%\n",
     "is_executing": false
    }
   }
  },
  {
   "cell_type": "code",
   "execution_count": 8,
   "outputs": [
    {
     "name": "stdout",
     "text": [
      "44.7 ms ± 1.35 ms per loop (mean ± std. dev. of 7 runs, 10 loops each)\n"
     ],
     "output_type": "stream"
    }
   ],
   "source": [
    "\"\"\"Bạn sẽ thấy pandas.eval() nhanh hơn 50% và sử dụng ít bộ nhớ hơn nhiều\"\"\"\n",
    "%timeit pandas.eval(\"df1 + df2 + df3 + df4\")"
   ],
   "metadata": {
    "collapsed": false,
    "pycharm": {
     "name": "#%%\n",
     "is_executing": false
    }
   }
  },
  {
   "cell_type": "code",
   "execution_count": 9,
   "outputs": [
    {
     "data": {
      "text/plain": "True"
     },
     "metadata": {},
     "output_type": "execute_result",
     "execution_count": 9
    }
   ],
   "source": [
    "\"\"\"Đương nhiên đều cho kết quả tương tự rồi\"\"\"\n",
    "numpy.allclose(\n",
    "    df1 + df2 + df3 + df4,\n",
    "    pandas.eval(\"df1 + df2 + df3 + df4\")\n",
    ")\n",
    "\n"
   ],
   "metadata": {
    "collapsed": false,
    "pycharm": {
     "name": "#%%\n",
     "is_executing": false
    }
   }
  },
  {
   "cell_type": "code",
   "execution_count": 11,
   "outputs": [],
   "source": [
    "\"\"\"Các operations có thể xài trong pandas.eval()\"\"\"\n",
    "\n",
    "df1, df2, df3, df4, df5 = (\n",
    "    pandas.DataFrame(\n",
    "        randomer.randint(0, 1000, (100, 3))\n",
    "    )\n",
    "    for i in range(5)\n",
    ")\n",
    "\n",
    "\"\"\"Arithmetic operators\"\"\"\n",
    "assert numpy.allclose(-df1 * df2 / (df3 + df4) - df5, pandas.eval(\"-df1 * df2 / (df3 + df4) - df5\"))"
   ],
   "metadata": {
    "collapsed": false,
    "pycharm": {
     "name": "#%%\n",
     "is_executing": false
    }
   }
  },
  {
   "cell_type": "code",
   "execution_count": 12,
   "outputs": [],
   "source": [
    "\"\"\"Comparison operators\"\"\"\n",
    "\n",
    "assert numpy.allclose((df1 < df2) & (df2 <= df3) & (df3 != df4), pandas.eval(\"(df1 < df2) & (df2 <= df3) & (df3 != df4)\"))"
   ],
   "metadata": {
    "collapsed": false,
    "pycharm": {
     "name": "#%%\n",
     "is_executing": false
    }
   }
  },
  {
   "cell_type": "code",
   "execution_count": 13,
   "outputs": [],
   "source": [
    "\"\"\"Bitwise operators\"\"\"\n",
    "assert numpy.allclose(\n",
    "    (df1 < 0.5) & (df2 < 0.5) | (df3 < df4),\n",
    "    pandas.eval(\"((df1 < 0.5) & (df2 < 0.5)) | (df3 < df4)\")\n",
    ")"
   ],
   "metadata": {
    "collapsed": false,
    "pycharm": {
     "name": "#%%\n",
     "is_executing": false
    }
   }
  },
  {
   "cell_type": "code",
   "execution_count": 14,
   "outputs": [],
   "source": [
    "\"\"\"Object attributes and indices\"\"\"\n",
    "\n",
    "assert numpy.allclose(\n",
    "    df2.T[0] + df3.iloc[1],\n",
    "    pandas.eval(\"df2.T[0] + df3.iloc[1]\")\n",
    ")"
   ],
   "metadata": {
    "collapsed": false,
    "pycharm": {
     "name": "#%%\n",
     "is_executing": false
    }
   }
  },
  {
   "cell_type": "code",
   "execution_count": 9,
   "outputs": [
    {
     "data": {
      "text/plain": "True"
     },
     "metadata": {},
     "output_type": "execute_result",
     "execution_count": 9
    }
   ],
   "source": [
    "import pandas\n",
    "import numpy\n",
    "\"\"\"Tuy nhiên, function calls, conditional statements, loops vẫn chưa được triển khai trong pandas.eval()\"\"\"\n",
    "\"\"\"Nếu muốn thì bạn tự đi mà sử dụng Numexpr\"\"\"\n",
    "\n",
    "\"\"\"Kinh dị hơn. dataframe.eval() cho phép bạn tham chiếu tới các cột chỉ bằng tên cột\"\"\"\n",
    "df = pandas.DataFrame(\n",
    "    randomer.rand(1000, 3),\n",
    "    columns = [\"A\", \"B\", \"C\"]\n",
    ")\n",
    "numpy.allclose(\n",
    "    pandas.eval(\"(df.A + df.B) / (df.C - 1)\"),\n",
    "    df.eval(\"(A + B) / (C - 1)\")\n",
    ")"
   ],
   "metadata": {
    "collapsed": false,
    "pycharm": {
     "name": "#%%\n",
     "is_executing": false
    }
   }
  },
  {
   "cell_type": "code",
   "execution_count": 16,
   "outputs": [
    {
     "traceback": [
      "\u001b[0;31m---------------------------------------------------------------------------\u001b[0m",
      "\u001b[0;31mNameError\u001b[0m                                 Traceback (most recent call last)",
      "\u001b[0;32m<ipython-input-16-bf85c9022f53>\u001b[0m in \u001b[0;36m<module>\u001b[0;34m\u001b[0m\n\u001b[1;32m      1\u001b[0m \u001b[0;34m\"\"\"Bạn còn có thể assignment trong pandas.eval()\"\"\"\u001b[0m\u001b[0;34m\u001b[0m\u001b[0;34m\u001b[0m\u001b[0m\n\u001b[1;32m      2\u001b[0m \u001b[0;34m\u001b[0m\u001b[0m\n\u001b[0;32m----> 3\u001b[0;31m \u001b[0mdf\u001b[0m\u001b[0;34m.\u001b[0m\u001b[0meval\u001b[0m\u001b[0;34m(\u001b[0m\u001b[0;34m\"D = (A + B) / C\"\u001b[0m\u001b[0;34m,\u001b[0m \u001b[0minplace\u001b[0m \u001b[0;34m=\u001b[0m \u001b[0;32mTrue\u001b[0m\u001b[0;34m)\u001b[0m\u001b[0;34m\u001b[0m\u001b[0;34m\u001b[0m\u001b[0m\n\u001b[0m",
      "\u001b[0;31mNameError\u001b[0m: name 'df' is not defined"
     ],
     "ename": "NameError",
     "evalue": "name 'df' is not defined",
     "output_type": "error"
    }
   ],
   "source": [
    "\"\"\"Bạn còn có thể assignment trong pandas.eval()\"\"\"\n",
    "\n",
    "df.eval(\"D = (A + B) / C\", inplace = True)"
   ],
   "metadata": {
    "collapsed": false,
    "pycharm": {
     "name": "#%%\n",
     "is_executing": false
    }
   }
  },
  {
   "cell_type": "code",
   "execution_count": 11,
   "outputs": [
    {
     "data": {
      "text/plain": "True"
     },
     "metadata": {},
     "output_type": "execute_result",
     "execution_count": 11
    }
   ],
   "source": [
    "\"\"\"Tham chiếu tới local variable trong dataframe.eval()\"\"\"\n",
    "\n",
    "columnMean = df.mean(axis = 1)\n",
    "numpy.allclose(\n",
    "    df[\"A\"] + columnMean,\n",
    "    df.eval(\"A + @columnMean\")\n",
    ")"
   ],
   "metadata": {
    "collapsed": false,
    "pycharm": {
     "name": "#%%\n",
     "is_executing": false
    }
   }
  },
  {
   "cell_type": "code",
   "execution_count": 12,
   "outputs": [
    {
     "data": {
      "text/plain": "True"
     },
     "metadata": {},
     "output_type": "execute_result",
     "execution_count": 12
    }
   ],
   "source": [
    "\"\"\"Bạn vẫn muốn tham chiếu cột bằng cách rút gọn và vẫn muốn có khả năng truy cập dataFrame ?\"\"\"\n",
    "\"\"\"dataframe.query() là lựa chọn cho bạn\"\"\"\n",
    "\n",
    "numpy.allclose(\n",
    "    pandas.eval(\"df[(df.A < 0.5) & (df.B < 0.5)]\"),\n",
    "    df.query(\"A < 0.5 & B < 0.5\")\n",
    ")"
   ],
   "metadata": {
    "collapsed": false,
    "pycharm": {
     "name": "#%%\n",
     "is_executing": false
    }
   }
  },
  {
   "cell_type": "code",
   "execution_count": null,
   "outputs": [],
   "source": [
    "\"\"\"Kết luận: Bạn nên xài eval, query cho những dữ liệu kích thước lơn thực sự\"\"\"\n",
    "\"\"\"Tuy nhiên cách tính toán truyền thống vẫn nhanh hơn với tập dữ liệu nhỏ đồng thời nó cũng dễ nhìn hơn\"\"\"\n"
   ],
   "metadata": {
    "collapsed": false,
    "pycharm": {
     "name": "#%%\n"
    }
   }
  }
 ],
 "metadata": {
  "language_info": {
   "codemirror_mode": {
    "name": "ipython",
    "version": 2
   },
   "file_extension": ".py",
   "mimetype": "text/x-python",
   "name": "python",
   "nbconvert_exporter": "python",
   "pygments_lexer": "ipython2",
   "version": "2.7.6"
  },
  "kernelspec": {
   "name": "python3",
   "language": "python",
   "display_name": "Python 3"
  },
  "pycharm": {
   "stem_cell": {
    "cell_type": "raw",
    "source": [],
    "metadata": {
     "collapsed": false
    }
   }
  }
 },
 "nbformat": 4,
 "nbformat_minor": 0
}