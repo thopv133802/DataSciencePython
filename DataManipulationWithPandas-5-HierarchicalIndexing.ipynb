{
 "cells": [
  {
   "cell_type": "code",
   "execution_count": 1,
   "outputs": [
    {
     "data": {
      "text/plain": "(California, 2000)    33871648\n(California, 2010)    37253956\n(New York, 2000)      18976457\n(New York, 2010)      19378102\n(Texas, 2000)         20851820\n(Texas, 2010)         25145561\ndtype: int64"
     },
     "metadata": {},
     "output_type": "execute_result",
     "execution_count": 1
    }
   ],
   "source": [
    "\"\"\"Hierachical indexing(multi-indexing)\"\"\"\n",
    "\"\"\"Kết hợp nhiều cấp độ index trong chỉ một single index\"\"\"\n",
    "\"\"\" => higher-dimensional data có thể được thể hiện một cách gọn nhẹ trong Series hoặc DataFrame objects\"\"\"\n",
    "\n",
    "import pandas \n",
    "import numpy \n",
    "\n",
    "\"\"\"Multiply indexed Series\"\"\"\n",
    "\"\"\"Bad way\"\"\"\n",
    "index = [\n",
    "    (\"California\", 2000),(\"California\", 2010),\n",
    "    (\"New York\", 2000),(\"New York\", 2010),\n",
    "    ('Texas', 2000), ('Texas', 2010)\n",
    "]\n",
    "populations = [\n",
    "    33871648, 37253956,\n",
    "    18976457, 19378102,\n",
    "    20851820, 25145561\n",
    "]\n",
    "\n",
    "pop = pandas.Series(populations, index = index)\n",
    "pop"
   ],
   "metadata": {
    "collapsed": false,
    "pycharm": {
     "name": "#%%\n",
     "is_executing": false
    }
   }
  },
  {
   "cell_type": "code",
   "execution_count": 2,
   "outputs": [
    {
     "data": {
      "text/plain": "(California, 2010)    37253956\n(New York, 2000)      18976457\n(New York, 2010)      19378102\n(Texas, 2000)         20851820\ndtype: int64"
     },
     "metadata": {},
     "output_type": "execute_result",
     "execution_count": 2
    }
   ],
   "source": [
    "pop[(\"California\", 2010): (\"Texas\", 2000)]"
   ],
   "metadata": {
    "collapsed": false,
    "pycharm": {
     "name": "#%%\n",
     "is_executing": false
    }
   }
  },
  {
   "cell_type": "code",
   "execution_count": 3,
   "outputs": [
    {
     "data": {
      "text/plain": "(California, 2010)    37253956\n(New York, 2010)      19378102\n(Texas, 2010)         25145561\ndtype: int64"
     },
     "metadata": {},
     "output_type": "execute_result",
     "execution_count": 3
    }
   ],
   "source": [
    "\"\"\"Nếu bạn muốn lựa chọn tất cả các values từ năm 2010 ?\"\"\"\n",
    "pop[[index for index in pop.index if index[1] == 2010]]"
   ],
   "metadata": {
    "collapsed": false,
    "pycharm": {
     "name": "#%%\n",
     "is_executing": false
    }
   }
  },
  {
   "cell_type": "code",
   "execution_count": 4,
   "outputs": [
    {
     "data": {
      "text/plain": "MultiIndex([('California', 2000),\n            ('California', 2010),\n            (  'New York', 2000),\n            (  'New York', 2010),\n            (     'Texas', 2000),\n            (     'Texas', 2010)],\n           )"
     },
     "metadata": {},
     "output_type": "execute_result",
     "execution_count": 4
    }
   ],
   "source": [
    "\"\"\"Better way - Pandas MultiIndex\"\"\"\n",
    "index = pandas.MultiIndex.from_tuples(index)\n",
    "index\n"
   ],
   "metadata": {
    "collapsed": false,
    "pycharm": {
     "name": "#%%\n",
     "is_executing": false
    }
   }
  },
  {
   "cell_type": "code",
   "execution_count": 5,
   "outputs": [
    {
     "data": {
      "text/plain": "California  2000    33871648\n            2010    37253956\nNew York    2000    18976457\n            2010    19378102\nTexas       2000    20851820\n            2010    25145561\ndtype: int64"
     },
     "metadata": {},
     "output_type": "execute_result",
     "execution_count": 5
    }
   ],
   "source": [
    "pop = pop.reindex(index)\n",
    "pop"
   ],
   "metadata": {
    "collapsed": false,
    "pycharm": {
     "name": "#%%\n",
     "is_executing": false
    }
   }
  },
  {
   "cell_type": "code",
   "execution_count": 6,
   "outputs": [
    {
     "data": {
      "text/plain": "California    37253956\nNew York      19378102\nTexas         25145561\ndtype: int64"
     },
     "metadata": {},
     "output_type": "execute_result",
     "execution_count": 6
    }
   ],
   "source": [
    "\"\"\"Cùng truy xuất tất cả các values cho năm 2010\"\"\"\n",
    "pop[:, 2010]"
   ],
   "metadata": {
    "collapsed": false,
    "pycharm": {
     "name": "#%%\n",
     "is_executing": false
    }
   }
  },
  {
   "cell_type": "code",
   "execution_count": 7,
   "outputs": [
    {
     "data": {
      "text/plain": "                2000      2010\nCalifornia  33871648  37253956\nNew York    18976457  19378102\nTexas       20851820  25145561",
      "text/html": "<div>\n<style scoped>\n    .dataframe tbody tr th:only-of-type {\n        vertical-align: middle;\n    }\n\n    .dataframe tbody tr th {\n        vertical-align: top;\n    }\n\n    .dataframe thead th {\n        text-align: right;\n    }\n</style>\n<table border=\"1\" class=\"dataframe\">\n  <thead>\n    <tr style=\"text-align: right;\">\n      <th></th>\n      <th>2000</th>\n      <th>2010</th>\n    </tr>\n  </thead>\n  <tbody>\n    <tr>\n      <th>California</th>\n      <td>33871648</td>\n      <td>37253956</td>\n    </tr>\n    <tr>\n      <th>New York</th>\n      <td>18976457</td>\n      <td>19378102</td>\n    </tr>\n    <tr>\n      <th>Texas</th>\n      <td>20851820</td>\n      <td>25145561</td>\n    </tr>\n  </tbody>\n</table>\n</div>"
     },
     "metadata": {},
     "output_type": "execute_result",
     "execution_count": 7
    }
   ],
   "source": [
    "\"\"\"MultiIndex as Extra Dimension\"\"\"\n",
    "\n",
    "\"\"\"unstack() method chuyển multiply-indexed Series thành một DataFrame\"\"\"\n",
    "popDataFrame = pop.unstack()\n",
    "popDataFrame\n"
   ],
   "metadata": {
    "collapsed": false,
    "pycharm": {
     "name": "#%%\n",
     "is_executing": false
    }
   }
  },
  {
   "cell_type": "code",
   "execution_count": 8,
   "outputs": [
    {
     "data": {
      "text/plain": "California  2000    33871648\n            2010    37253956\nNew York    2000    18976457\n            2010    19378102\nTexas       2000    20851820\n            2010    25145561\ndtype: int64"
     },
     "metadata": {},
     "output_type": "execute_result",
     "execution_count": 8
    }
   ],
   "source": [
    "\"\"\"Ngược lại stack() method chuyển DataFrame thành Series multiply-indexed\"\"\"\n",
    "popDataFrame.stack()"
   ],
   "metadata": {
    "collapsed": false,
    "pycharm": {
     "name": "#%%\n",
     "is_executing": false
    }
   }
  },
  {
   "cell_type": "code",
   "execution_count": 10,
   "outputs": [
    {
     "name": "stdout",
     "text": [
      "California  2000    0.273594\n            2010    0.249211\nNew York    2000    0.247010\n            2010    0.222831\nTexas       2000    0.283251\n            2010    0.273568\ndtype: float64\n"
     ],
     "output_type": "stream"
    },
    {
     "data": {
      "text/plain": "                2000      2010\nCalifornia  0.273594  0.249211\nNew York    0.247010  0.222831\nTexas       0.283251  0.273568",
      "text/html": "<div>\n<style scoped>\n    .dataframe tbody tr th:only-of-type {\n        vertical-align: middle;\n    }\n\n    .dataframe tbody tr th {\n        vertical-align: top;\n    }\n\n    .dataframe thead th {\n        text-align: right;\n    }\n</style>\n<table border=\"1\" class=\"dataframe\">\n  <thead>\n    <tr style=\"text-align: right;\">\n      <th></th>\n      <th>2000</th>\n      <th>2010</th>\n    </tr>\n  </thead>\n  <tbody>\n    <tr>\n      <th>California</th>\n      <td>0.273594</td>\n      <td>0.249211</td>\n    </tr>\n    <tr>\n      <th>New York</th>\n      <td>0.247010</td>\n      <td>0.222831</td>\n    </tr>\n    <tr>\n      <th>Texas</th>\n      <td>0.283251</td>\n      <td>0.273568</td>\n    </tr>\n  </tbody>\n</table>\n</div>"
     },
     "metadata": {},
     "output_type": "execute_result",
     "execution_count": 10
    }
   ],
   "source": [
    "\"\"\"Multiply-indexed mang đến sự linh hoạt cho loại dữ liệu chúng ta có thể thể hiện\"\"\"\n",
    "\"\"\"Ví dụ thêm một cột under18 cho mỗi quốc gia trong mỗi năm là vô cùng dễ dàng với một MultiIndex khi mà chúng ta chỉ cần thêm một cột vào DataFrame\"\"\"\n",
    "popDataFrame = pandas.DataFrame({\n",
    "    \"total\": pop,\n",
    "    \"under18\": [\n",
    "        9267089, 9284094,\n",
    "        4687374, 4318033,\n",
    "        5906301, 6879014\n",
    "    ]\n",
    "})\n",
    "\n",
    "fractionUnder18 = popDataFrame[\"under18\"] / popDataFrame[\"total\"]\n",
    "print(fractionUnder18)\n",
    "fractionUnder18.unstack()"
   ],
   "metadata": {
    "collapsed": false,
    "pycharm": {
     "name": "#%%\n",
     "is_executing": false
    }
   }
  },
  {
   "cell_type": "code",
   "execution_count": 11,
   "outputs": [
    {
     "data": {
      "text/plain": "        data1     data2\na 1  0.861978  0.227240\n  2  0.297605  0.839008\nb 1  0.565915  0.023555\n  2  0.170159  0.317965",
      "text/html": "<div>\n<style scoped>\n    .dataframe tbody tr th:only-of-type {\n        vertical-align: middle;\n    }\n\n    .dataframe tbody tr th {\n        vertical-align: top;\n    }\n\n    .dataframe thead th {\n        text-align: right;\n    }\n</style>\n<table border=\"1\" class=\"dataframe\">\n  <thead>\n    <tr style=\"text-align: right;\">\n      <th></th>\n      <th></th>\n      <th>data1</th>\n      <th>data2</th>\n    </tr>\n  </thead>\n  <tbody>\n    <tr>\n      <th rowspan=\"2\" valign=\"top\">a</th>\n      <th>1</th>\n      <td>0.861978</td>\n      <td>0.227240</td>\n    </tr>\n    <tr>\n      <th>2</th>\n      <td>0.297605</td>\n      <td>0.839008</td>\n    </tr>\n    <tr>\n      <th rowspan=\"2\" valign=\"top\">b</th>\n      <th>1</th>\n      <td>0.565915</td>\n      <td>0.023555</td>\n    </tr>\n    <tr>\n      <th>2</th>\n      <td>0.170159</td>\n      <td>0.317965</td>\n    </tr>\n  </tbody>\n</table>\n</div>"
     },
     "metadata": {},
     "output_type": "execute_result",
     "execution_count": 11
    }
   ],
   "source": [
    "\"\"\"Tạo MultiIndex\"\"\"\n",
    "\"\"\"Cách đơn giản nhất là truyền một danh sách một hoặc nhiều mảng index vào constructor \"\"\"\n",
    "dataFrame = pandas.DataFrame(\n",
    "    numpy.random.rand(4, 2),\n",
    "    index = [\n",
    "        [\"a\", \"a\", \"b\", \"b\"],\n",
    "        [1, 2, 1, 2]\n",
    "    ],\n",
    "    columns = [\"data1\", \"data2\"]\n",
    ")\n",
    "dataFrame"
   ],
   "metadata": {
    "collapsed": false,
    "pycharm": {
     "name": "#%%\n",
     "is_executing": false
    }
   }
  },
  {
   "cell_type": "code",
   "execution_count": 12,
   "outputs": [
    {
     "data": {
      "text/plain": "MultiIndex([('a', 1),\n            ('a', 2),\n            ('b', 1),\n            ('b', 2)],\n           )"
     },
     "metadata": {},
     "output_type": "execute_result",
     "execution_count": 12
    }
   ],
   "source": [
    "\"\"\"Hoặc nếu bạn truyền vào data là một dictionary với keys là các tuples thì pandas sẽ tự động nhận thức được và sử dụng MultiIndex\"\"\"\n",
    "data = {\n",
    "    ('California', 2000): 33871648,\n",
    "    ('California', 2010): 37253956,\n",
    "    ('Texas', 2000): 20851820,\n",
    "    ('Texas', 2010): 25145561,\n",
    "    ('New York', 2000): 18976457,\n",
    "    ('New York', 2010): 19378102\n",
    "}\n",
    "pandas.Series(data)\n",
    "\n",
    "\"\"\"Tạo MultiIndex một cách minh bạch\"\"\"\n",
    "\"\"\"Bằng cách tạo đối tượng MultiIndex với một list các arrays chứa index values theo cấp độ\"\"\"\n",
    "pandas.MultiIndex.from_arrays([\n",
    "    [\"a\", \"a\", \"b\", \"b\"],\n",
    "    [1, 2, 1, 2]\n",
    "])\n"
   ],
   "metadata": {
    "collapsed": false,
    "pycharm": {
     "name": "#%%\n",
     "is_executing": false
    }
   }
  },
  {
   "cell_type": "code",
   "execution_count": 13,
   "outputs": [
    {
     "data": {
      "text/plain": "MultiIndex([('a', 1),\n            ('a', 2),\n            ('b', 1),\n            ('b', 2)],\n           )"
     },
     "metadata": {},
     "output_type": "execute_result",
     "execution_count": 13
    }
   ],
   "source": [
    "\"\"\"Hoặc bạn có thể truyền vào một list tuples với mỗi tuple là các index values cho mỗi point\"\"\"\n",
    "\n",
    "pandas.MultiIndex.from_tuples([\n",
    "    (\"a\", 1),\n",
    "    (\"a\", 2),\n",
    "    (\"b\", 1),\n",
    "    (\"b\", 2)\n",
    "])"
   ],
   "metadata": {
    "collapsed": false,
    "pycharm": {
     "name": "#%%\n",
     "is_executing": false
    }
   }
  },
  {
   "cell_type": "code",
   "execution_count": 14,
   "outputs": [
    {
     "data": {
      "text/plain": "MultiIndex([('a', '1'),\n            ('a', '2'),\n            ('b', '1'),\n            ('b', '2')],\n           )"
     },
     "metadata": {},
     "output_type": "execute_result",
     "execution_count": 14
    }
   ],
   "source": [
    "\"\"\"Tạo MultiIndex bằng phép tích đề các\"\"\"\n",
    "\n",
    "pandas.MultiIndex.from_product([\n",
    "    (\"a\", \"b\"),\n",
    "    (\"1\", \"2\")\n",
    "])"
   ],
   "metadata": {
    "collapsed": false,
    "pycharm": {
     "name": "#%%\n",
     "is_executing": false
    }
   }
  },
  {
   "cell_type": "code",
   "execution_count": 16,
   "outputs": [
    {
     "name": "stderr",
     "text": [
      "/home/thopham/anaconda3/envs/Abc/lib/python3.7/site-packages/ipykernel_launcher.py:9: FutureWarning: the 'labels' keyword is deprecated, use 'codes' instead\n  if __name__ == '__main__':\n"
     ],
     "output_type": "stream"
    },
    {
     "data": {
      "text/plain": "MultiIndex([('a', 1),\n            ('b', 1),\n            ('a', 2),\n            ('b', 2)],\n           )"
     },
     "metadata": {},
     "output_type": "execute_result",
     "execution_count": 16
    }
   ],
   "source": [
    "\"\"\"Cách cọc cằn nhất là default constructor \"\"\"\n",
    "pandas.MultiIndex(\n",
    "    levels = [\n",
    "        [\"a\", \"b\"],\n",
    "        [1, 2]\n",
    "    ],\n",
    "    labels = [\n",
    "        [0, 1, 0, 1],\n",
    "        [0, 0, 1, 1]\n",
    "    ]\n",
    ")"
   ],
   "metadata": {
    "collapsed": false,
    "pycharm": {
     "name": "#%%\n",
     "is_executing": false
    }
   }
  },
  {
   "cell_type": "code",
   "execution_count": 17,
   "outputs": [
    {
     "data": {
      "text/plain": "state       year\nCalifornia  2000    33871648\n            2010    37253956\nNew York    2000    18976457\n            2010    19378102\nTexas       2000    20851820\n            2010    25145561\ndtype: int64"
     },
     "metadata": {},
     "output_type": "execute_result",
     "execution_count": 17
    }
   ],
   "source": [
    "\"\"\"MultiIndex level names để cho dễ hiểu về cấu trúc MultiIndex\"\"\"\n",
    "pop.index.names = [\"state\", \"year\"]\n",
    "pop"
   ],
   "metadata": {
    "collapsed": false,
    "pycharm": {
     "name": "#%%\n",
     "is_executing": false
    }
   }
  },
  {
   "cell_type": "code",
   "execution_count": 19,
   "outputs": [
    {
     "data": {
      "text/plain": "subject      Bob       Guido         Sue      \ntype          HR  Temp    HR  Temp    HR  Temp\nyear visit                                    \n2013 1      38.0  36.6  41.0  38.3  23.0  38.4\n     2      31.0  36.9  39.0  37.3  38.0  37.0\n2014 1      49.0  35.4  37.0  36.8  43.0  37.7\n     2      34.0  36.3  19.0  38.1  39.0  37.4",
      "text/html": "<div>\n<style scoped>\n    .dataframe tbody tr th:only-of-type {\n        vertical-align: middle;\n    }\n\n    .dataframe tbody tr th {\n        vertical-align: top;\n    }\n\n    .dataframe thead tr th {\n        text-align: left;\n    }\n\n    .dataframe thead tr:last-of-type th {\n        text-align: right;\n    }\n</style>\n<table border=\"1\" class=\"dataframe\">\n  <thead>\n    <tr>\n      <th></th>\n      <th>subject</th>\n      <th colspan=\"2\" halign=\"left\">Bob</th>\n      <th colspan=\"2\" halign=\"left\">Guido</th>\n      <th colspan=\"2\" halign=\"left\">Sue</th>\n    </tr>\n    <tr>\n      <th></th>\n      <th>type</th>\n      <th>HR</th>\n      <th>Temp</th>\n      <th>HR</th>\n      <th>Temp</th>\n      <th>HR</th>\n      <th>Temp</th>\n    </tr>\n    <tr>\n      <th>year</th>\n      <th>visit</th>\n      <th></th>\n      <th></th>\n      <th></th>\n      <th></th>\n      <th></th>\n      <th></th>\n    </tr>\n  </thead>\n  <tbody>\n    <tr>\n      <th rowspan=\"2\" valign=\"top\">2013</th>\n      <th>1</th>\n      <td>38.0</td>\n      <td>36.6</td>\n      <td>41.0</td>\n      <td>38.3</td>\n      <td>23.0</td>\n      <td>38.4</td>\n    </tr>\n    <tr>\n      <th>2</th>\n      <td>31.0</td>\n      <td>36.9</td>\n      <td>39.0</td>\n      <td>37.3</td>\n      <td>38.0</td>\n      <td>37.0</td>\n    </tr>\n    <tr>\n      <th rowspan=\"2\" valign=\"top\">2014</th>\n      <th>1</th>\n      <td>49.0</td>\n      <td>35.4</td>\n      <td>37.0</td>\n      <td>36.8</td>\n      <td>43.0</td>\n      <td>37.7</td>\n    </tr>\n    <tr>\n      <th>2</th>\n      <td>34.0</td>\n      <td>36.3</td>\n      <td>19.0</td>\n      <td>38.1</td>\n      <td>39.0</td>\n      <td>37.4</td>\n    </tr>\n  </tbody>\n</table>\n</div>"
     },
     "metadata": {},
     "output_type": "execute_result",
     "execution_count": 19
    }
   ],
   "source": [
    "\"\"\"MultiIndex cho các columns - trong DataFrame\"\"\"\n",
    "\"\"\"Với DataFrame thì columns với rows hoàn toàn tương tự nhau\"\"\"\n",
    "index = pandas.MultiIndex.from_product([\n",
    "    [2013, 2014],\n",
    "    [1, 2]\n",
    "], names = [\"year\", \"visit\"])\n",
    "columns = pandas.MultiIndex.from_product([\n",
    "    [\"Bob\", \"Guido\", \"Sue\"],\n",
    "    [\"HR\", \"Temp\"]\n",
    "], names = [\"subject\", \"type\"])\n",
    "\n",
    "data = numpy.round(numpy.random.randn(4, 6), 1)\n",
    "data[:, ::2] *= 10\n",
    "data += 37\n",
    "\n",
    "#4D data\n",
    "healthData = pandas.DataFrame(\n",
    "    data,\n",
    "    index = index,\n",
    "    columns = columns\n",
    ")\n",
    "healthData"
   ],
   "metadata": {
    "collapsed": false,
    "pycharm": {
     "name": "#%%\n",
     "is_executing": false
    }
   }
  },
  {
   "cell_type": "code",
   "execution_count": 20,
   "outputs": [
    {
     "data": {
      "text/plain": "type          HR  Temp\nyear visit            \n2013 1      41.0  38.3\n     2      39.0  37.3\n2014 1      37.0  36.8\n     2      19.0  38.1",
      "text/html": "<div>\n<style scoped>\n    .dataframe tbody tr th:only-of-type {\n        vertical-align: middle;\n    }\n\n    .dataframe tbody tr th {\n        vertical-align: top;\n    }\n\n    .dataframe thead th {\n        text-align: right;\n    }\n</style>\n<table border=\"1\" class=\"dataframe\">\n  <thead>\n    <tr style=\"text-align: right;\">\n      <th></th>\n      <th>type</th>\n      <th>HR</th>\n      <th>Temp</th>\n    </tr>\n    <tr>\n      <th>year</th>\n      <th>visit</th>\n      <th></th>\n      <th></th>\n    </tr>\n  </thead>\n  <tbody>\n    <tr>\n      <th rowspan=\"2\" valign=\"top\">2013</th>\n      <th>1</th>\n      <td>41.0</td>\n      <td>38.3</td>\n    </tr>\n    <tr>\n      <th>2</th>\n      <td>39.0</td>\n      <td>37.3</td>\n    </tr>\n    <tr>\n      <th rowspan=\"2\" valign=\"top\">2014</th>\n      <th>1</th>\n      <td>37.0</td>\n      <td>36.8</td>\n    </tr>\n    <tr>\n      <th>2</th>\n      <td>19.0</td>\n      <td>38.1</td>\n    </tr>\n  </tbody>\n</table>\n</div>"
     },
     "metadata": {},
     "output_type": "execute_result",
     "execution_count": 20
    }
   ],
   "source": [
    "healthData[\"Guido\"]"
   ],
   "metadata": {
    "collapsed": false,
    "pycharm": {
     "name": "#%%\n",
     "is_executing": false
    }
   }
  },
  {
   "cell_type": "code",
   "execution_count": 21,
   "outputs": [
    {
     "data": {
      "text/plain": "state       year\nCalifornia  2000    33871648\n            2010    37253956\nNew York    2000    18976457\n            2010    19378102\nTexas       2000    20851820\n            2010    25145561\ndtype: int64"
     },
     "metadata": {},
     "output_type": "execute_result",
     "execution_count": 21
    }
   ],
   "source": [
    "\"\"\"Index và Slicing một MultiIndex\"\"\"\n",
    "\n",
    "\"\"\"Multiply indexed series\"\"\"\n",
    "pop"
   ],
   "metadata": {
    "collapsed": false,
    "pycharm": {
     "name": "#%%\n",
     "is_executing": false
    }
   }
  },
  {
   "cell_type": "code",
   "execution_count": 22,
   "outputs": [
    {
     "data": {
      "text/plain": "33871648"
     },
     "metadata": {},
     "output_type": "execute_result",
     "execution_count": 22
    }
   ],
   "source": [
    "\"\"\" Single element bằng tập indices\"\"\"\n",
    "pop[\"California\", 2000]\n"
   ],
   "metadata": {
    "collapsed": false,
    "pycharm": {
     "name": "#%%\n",
     "is_executing": false
    }
   }
  },
  {
   "cell_type": "code",
   "execution_count": 23,
   "outputs": [
    {
     "data": {
      "text/plain": "year\n2000    33871648\n2010    37253956\ndtype: int64"
     },
     "metadata": {},
     "output_type": "execute_result",
     "execution_count": 23
    }
   ],
   "source": [
    "\"\"\"partial indexing\"\"\"\n",
    "pop[\"California\"]"
   ],
   "metadata": {
    "collapsed": false,
    "pycharm": {
     "name": "#%%\n",
     "is_executing": false
    }
   }
  },
  {
   "cell_type": "code",
   "execution_count": 24,
   "outputs": [
    {
     "data": {
      "text/plain": "state       year\nCalifornia  2000    33871648\n            2010    37253956\nNew York    2000    18976457\n            2010    19378102\ndtype: int64"
     },
     "metadata": {},
     "output_type": "execute_result",
     "execution_count": 24
    }
   ],
   "source": [
    "\"\"\"partial slicing miễn là MultiIndex được sắp xếp\"\"\"\n",
    "pop.loc[\"California\": \"New York\"]"
   ],
   "metadata": {
    "collapsed": false,
    "pycharm": {
     "name": "#%%\n",
     "is_executing": false
    }
   }
  },
  {
   "cell_type": "code",
   "execution_count": 25,
   "outputs": [
    {
     "data": {
      "text/plain": "state\nCalifornia    33871648\nNew York      18976457\nTexas         20851820\ndtype: int64"
     },
     "metadata": {},
     "output_type": "execute_result",
     "execution_count": 25
    }
   ],
   "source": [
    "pop[:, 2000]\n",
    "\n",
    "\n"
   ],
   "metadata": {
    "collapsed": false,
    "pycharm": {
     "name": "#%%\n",
     "is_executing": false
    }
   }
  },
  {
   "cell_type": "code",
   "execution_count": 27,
   "outputs": [
    {
     "data": {
      "text/plain": "state       year\nCalifornia  2000    33871648\n            2010    37253956\nTexas       2010    25145561\ndtype: int64"
     },
     "metadata": {},
     "output_type": "execute_result",
     "execution_count": 27
    }
   ],
   "source": [
    "\"\"\"Boolean masks\"\"\"\n",
    "pop[pop > 22000000]"
   ],
   "metadata": {
    "collapsed": false,
    "pycharm": {
     "name": "#%%\n",
     "is_executing": false
    }
   }
  },
  {
   "cell_type": "code",
   "execution_count": 28,
   "outputs": [
    {
     "data": {
      "text/plain": "state       year\nCalifornia  2000    33871648\n            2010    37253956\nTexas       2000    20851820\n            2010    25145561\ndtype: int64"
     },
     "metadata": {},
     "output_type": "execute_result",
     "execution_count": 28
    }
   ],
   "source": [
    "\"\"\"Fancy indexing\"\"\"\n",
    "pop[[\"California\", \"Texas\"]]"
   ],
   "metadata": {
    "collapsed": false,
    "pycharm": {
     "name": "#%%\n",
     "is_executing": false
    }
   }
  },
  {
   "cell_type": "code",
   "execution_count": 29,
   "outputs": [
    {
     "data": {
      "text/plain": "subject      Bob       Guido         Sue      \ntype          HR  Temp    HR  Temp    HR  Temp\nyear visit                                    \n2013 1      38.0  36.6  41.0  38.3  23.0  38.4\n     2      31.0  36.9  39.0  37.3  38.0  37.0\n2014 1      49.0  35.4  37.0  36.8  43.0  37.7\n     2      34.0  36.3  19.0  38.1  39.0  37.4",
      "text/html": "<div>\n<style scoped>\n    .dataframe tbody tr th:only-of-type {\n        vertical-align: middle;\n    }\n\n    .dataframe tbody tr th {\n        vertical-align: top;\n    }\n\n    .dataframe thead tr th {\n        text-align: left;\n    }\n\n    .dataframe thead tr:last-of-type th {\n        text-align: right;\n    }\n</style>\n<table border=\"1\" class=\"dataframe\">\n  <thead>\n    <tr>\n      <th></th>\n      <th>subject</th>\n      <th colspan=\"2\" halign=\"left\">Bob</th>\n      <th colspan=\"2\" halign=\"left\">Guido</th>\n      <th colspan=\"2\" halign=\"left\">Sue</th>\n    </tr>\n    <tr>\n      <th></th>\n      <th>type</th>\n      <th>HR</th>\n      <th>Temp</th>\n      <th>HR</th>\n      <th>Temp</th>\n      <th>HR</th>\n      <th>Temp</th>\n    </tr>\n    <tr>\n      <th>year</th>\n      <th>visit</th>\n      <th></th>\n      <th></th>\n      <th></th>\n      <th></th>\n      <th></th>\n      <th></th>\n    </tr>\n  </thead>\n  <tbody>\n    <tr>\n      <th rowspan=\"2\" valign=\"top\">2013</th>\n      <th>1</th>\n      <td>38.0</td>\n      <td>36.6</td>\n      <td>41.0</td>\n      <td>38.3</td>\n      <td>23.0</td>\n      <td>38.4</td>\n    </tr>\n    <tr>\n      <th>2</th>\n      <td>31.0</td>\n      <td>36.9</td>\n      <td>39.0</td>\n      <td>37.3</td>\n      <td>38.0</td>\n      <td>37.0</td>\n    </tr>\n    <tr>\n      <th rowspan=\"2\" valign=\"top\">2014</th>\n      <th>1</th>\n      <td>49.0</td>\n      <td>35.4</td>\n      <td>37.0</td>\n      <td>36.8</td>\n      <td>43.0</td>\n      <td>37.7</td>\n    </tr>\n    <tr>\n      <th>2</th>\n      <td>34.0</td>\n      <td>36.3</td>\n      <td>19.0</td>\n      <td>38.1</td>\n      <td>39.0</td>\n      <td>37.4</td>\n    </tr>\n  </tbody>\n</table>\n</div>"
     },
     "metadata": {},
     "output_type": "execute_result",
     "execution_count": 29
    }
   ],
   "source": [
    "\"\"\"Multiply Indexed các DataFrames\"\"\"\n",
    "\n",
    "healthData"
   ],
   "metadata": {
    "collapsed": false,
    "pycharm": {
     "name": "#%%\n",
     "is_executing": false
    }
   }
  },
  {
   "cell_type": "code",
   "execution_count": 30,
   "outputs": [
    {
     "data": {
      "text/plain": "year  visit\n2013  1        41.0\n      2        39.0\n2014  1        37.0\n      2        19.0\nName: (Guido, HR), dtype: float64"
     },
     "metadata": {},
     "output_type": "execute_result",
     "execution_count": 30
    }
   ],
   "source": [
    "\"\"\"Cột là chính\"\"\"\n",
    "healthData[\"Guido\", \"HR\"]\n"
   ],
   "metadata": {
    "collapsed": false,
    "pycharm": {
     "name": "#%%\n",
     "is_executing": false
    }
   }
  },
  {
   "cell_type": "code",
   "execution_count": 32,
   "outputs": [
    {
     "data": {
      "text/plain": "subject      Bob\ntype          HR\nyear visit      \n2013 1      38.0",
      "text/html": "<div>\n<style scoped>\n    .dataframe tbody tr th:only-of-type {\n        vertical-align: middle;\n    }\n\n    .dataframe tbody tr th {\n        vertical-align: top;\n    }\n\n    .dataframe thead tr th {\n        text-align: left;\n    }\n\n    .dataframe thead tr:last-of-type th {\n        text-align: right;\n    }\n</style>\n<table border=\"1\" class=\"dataframe\">\n  <thead>\n    <tr>\n      <th></th>\n      <th>subject</th>\n      <th>Bob</th>\n    </tr>\n    <tr>\n      <th></th>\n      <th>type</th>\n      <th>HR</th>\n    </tr>\n    <tr>\n      <th>year</th>\n      <th>visit</th>\n      <th></th>\n    </tr>\n  </thead>\n  <tbody>\n    <tr>\n      <th>2013</th>\n      <th>1</th>\n      <td>38.0</td>\n    </tr>\n  </tbody>\n</table>\n</div>"
     },
     "metadata": {},
     "output_type": "execute_result",
     "execution_count": 32
    }
   ],
   "source": [
    "\"\"\"Loc, iloc, ix indexers đều hoạt động\"\"\"\n",
    "\n",
    "healthData.iloc[:1, :1]"
   ],
   "metadata": {
    "collapsed": false,
    "pycharm": {
     "name": "#%%\n",
     "is_executing": false
    }
   }
  },
  {
   "cell_type": "code",
   "execution_count": 33,
   "outputs": [
    {
     "data": {
      "text/plain": "year  visit\n2013  1        38.0\n      2        31.0\n2014  1        49.0\n      2        34.0\nName: (Bob, HR), dtype: float64"
     },
     "metadata": {},
     "output_type": "execute_result",
     "execution_count": 33
    }
   ],
   "source": [
    "\"\"\"Tên cột truyền theo chuỗi\"\"\"\n",
    "healthData.loc[:, (\"Bob\", \"HR\")]"
   ],
   "metadata": {
    "collapsed": false,
    "pycharm": {
     "name": "#%%\n",
     "is_executing": false
    }
   }
  },
  {
   "cell_type": "code",
   "execution_count": 34,
   "outputs": [
    {
     "traceback": [
      "\u001b[0;36m  File \u001b[0;32m\"<ipython-input-34-b3d265eb5944>\"\u001b[0;36m, line \u001b[0;32m2\u001b[0m\n\u001b[0;31m    healthData.loc[(:, 1), (:, \"HR\")]\u001b[0m\n\u001b[0m                    ^\u001b[0m\n\u001b[0;31mSyntaxError\u001b[0m\u001b[0;31m:\u001b[0m invalid syntax\n"
     ],
     "ename": "SyntaxError",
     "evalue": "invalid syntax (<ipython-input-34-b3d265eb5944>, line 2)",
     "output_type": "error"
    }
   ],
   "source": [
    "\"\"\"Slices bằng index tuples gây lỗi\"\"\"\n",
    "healthData.loc[(:, 1), (:, \"HR\")]"
   ],
   "metadata": {
    "collapsed": false,
    "pycharm": {
     "name": "#%%\n",
     "is_executing": false
    }
   }
  },
  {
   "cell_type": "code",
   "execution_count": 36,
   "outputs": [
    {
     "data": {
      "text/plain": "subject      Bob Guido   Sue\ntype          HR    HR    HR\nyear visit                  \n2013 1      38.0  41.0  23.0\n2014 1      49.0  37.0  43.0",
      "text/html": "<div>\n<style scoped>\n    .dataframe tbody tr th:only-of-type {\n        vertical-align: middle;\n    }\n\n    .dataframe tbody tr th {\n        vertical-align: top;\n    }\n\n    .dataframe thead tr th {\n        text-align: left;\n    }\n\n    .dataframe thead tr:last-of-type th {\n        text-align: right;\n    }\n</style>\n<table border=\"1\" class=\"dataframe\">\n  <thead>\n    <tr>\n      <th></th>\n      <th>subject</th>\n      <th>Bob</th>\n      <th>Guido</th>\n      <th>Sue</th>\n    </tr>\n    <tr>\n      <th></th>\n      <th>type</th>\n      <th>HR</th>\n      <th>HR</th>\n      <th>HR</th>\n    </tr>\n    <tr>\n      <th>year</th>\n      <th>visit</th>\n      <th></th>\n      <th></th>\n      <th></th>\n    </tr>\n  </thead>\n  <tbody>\n    <tr>\n      <th>2013</th>\n      <th>1</th>\n      <td>38.0</td>\n      <td>41.0</td>\n      <td>23.0</td>\n    </tr>\n    <tr>\n      <th>2014</th>\n      <th>1</th>\n      <td>49.0</td>\n      <td>37.0</td>\n      <td>43.0</td>\n    </tr>\n  </tbody>\n</table>\n</div>"
     },
     "metadata": {},
     "output_type": "execute_result",
     "execution_count": 36
    }
   ],
   "source": [
    "\"\"\"Giải pháp với IndexSlice\"\"\"\n",
    "indexSlice = pandas.IndexSlice\n",
    "healthData.loc[indexSlice[:, 1], indexSlice[:, \"HR\"]]"
   ],
   "metadata": {
    "collapsed": false,
    "pycharm": {
     "name": "#%%\n",
     "is_executing": false
    }
   }
  },
  {
   "cell_type": "code",
   "execution_count": null,
   "outputs": [],
   "source": [],
   "metadata": {
    "collapsed": false,
    "pycharm": {
     "name": "#%%"
    }
   }
  }
 ],
 "metadata": {
  "language_info": {
   "codemirror_mode": {
    "name": "ipython",
    "version": 2
   },
   "file_extension": ".py",
   "mimetype": "text/x-python",
   "name": "python",
   "nbconvert_exporter": "python",
   "pygments_lexer": "ipython2",
   "version": "2.7.6"
  },
  "kernelspec": {
   "name": "python3",
   "language": "python",
   "display_name": "Python 3"
  },
  "pycharm": {
   "stem_cell": {
    "cell_type": "raw",
    "source": [],
    "metadata": {
     "collapsed": false
    }
   }
  }
 },
 "nbformat": 4,
 "nbformat_minor": 0
}